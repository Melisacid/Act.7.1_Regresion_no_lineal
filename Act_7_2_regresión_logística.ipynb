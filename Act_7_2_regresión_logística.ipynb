{
  "nbformat": 4,
  "nbformat_minor": 0,
  "metadata": {
    "colab": {
      "provenance": [],
      "include_colab_link": true
    },
    "kernelspec": {
      "name": "python3",
      "display_name": "Python 3"
    },
    "language_info": {
      "name": "python"
    }
  },
  "cells": [
    {
      "cell_type": "markdown",
      "metadata": {
        "id": "view-in-github",
        "colab_type": "text"
      },
      "source": [
        "<a href=\"https://colab.research.google.com/github/Melisacid/Act.7.1_Regresion_no_lineal/blob/main/Act_7_2_regresi%C3%B3n_log%C3%ADstica.ipynb\" target=\"_parent\"><img src=\"https://colab.research.google.com/assets/colab-badge.svg\" alt=\"Open In Colab\"/></a>"
      ]
    },
    {
      "cell_type": "markdown",
      "source": [
        "#**Actividad Grupal**\n",
        "Melisa Hernandez Cid - A01732341\n",
        "\n",
        "Alexa Bustamante de la Cruz A01173639\n",
        "\n"
      ],
      "metadata": {
        "id": "gN-Ujcvvb3hI"
      }
    },
    {
      "cell_type": "markdown",
      "source": [
        "1. Utilizar el nuevo repositorio con el nombre: Regresión No Lineal y Regresión Logistica\n",
        "2. Agregar el archivo: Gastos y costos 20-23.xlsx”\n",
        "3. Realiza las acciones de preprocesamiento necesarias: Nulos y Outliers\n",
        "4. Convertir la variable TIPO GASTO en una variable dicotómica con los valores: “COMPRAS” y “OTROS GASTOS” de la base de datos “Gatos y costos 20-23.xlsx” , para los años 2020, 2021, 2022 y 2023 aplicando la herramienta de  “Regresión Logística”\n",
        "5. Analizar los siguientes casos de correlación logística que existe entre las siguientes variables:\n",
        "TIPO GASTO (variable objetivo) y TOTAL MX (variable independente) de la base de datos “Gastos y costos 20-23.xlsx” , para los años 2020, 2021, 2022 y 2023 aplicando la herramienta de  “Regresión Logística”\n",
        "\n",
        "6. Realizar una tabla de todos los coeficientes de precisión, exactitud y sensibilidad obtenidos para cada correlación analizada, según sea el caso.\n",
        "7. Crear los archivos requeridos en Google Colab y respaldarlos en GitHub.\n",
        "8 Generar un reporte comparativo sobre los análisis realizados y subirlo a GitHub, en formato pdf.\n",
        "9. Subir el link del repositorio en CANVAS para “Evaluación”"
      ],
      "metadata": {
        "id": "vRT6-39qRros"
      }
    },
    {
      "cell_type": "code",
      "execution_count": null,
      "metadata": {
        "id": "qzGCfPbgQJAT"
      },
      "outputs": [],
      "source": [
        "#Cargamos librerias\n",
        "import pandas as pd\n",
        "import numpy as np\n",
        "import matplotlib.pyplot as plt\n",
        "import scipy.special as special\n",
        "from scipy.optimize import curve_fit\n",
        "import seaborn as sns\n",
        "from sklearn.metrics import r2_score\n",
        "from sklearn.model_selection import train_test_split\n",
        "from sklearn.preprocessing import StandardScaler\n",
        "from sklearn.linear_model import LogisticRegression\n",
        "from sklearn.metrics import confusion_matrix"
      ]
    },
    {
      "cell_type": "markdown",
      "source": [
        "## **2020**"
      ],
      "metadata": {
        "id": "4mCmv4-TSGFH"
      }
    },
    {
      "cell_type": "code",
      "source": [
        "#Carga desde un archivo .xlsx sin indice\n",
        "df20= pd.read_excel('Gastos_costos_2020.xlsx')"
      ],
      "metadata": {
        "id": "4PMeTExRRBj-"
      },
      "execution_count": null,
      "outputs": []
    },
    {
      "cell_type": "code",
      "source": [
        "#Rellenamos nulos\n",
        "df2020 =df20.fillna(method=\"bfill\")\n",
        "df2020 =df20.fillna(method=\"ffill\")"
      ],
      "metadata": {
        "id": "ouflD-svSDk2"
      },
      "execution_count": null,
      "outputs": []
    },
    {
      "cell_type": "code",
      "source": [
        "#Verificar los valores sin repetirse de una columna\n",
        "unico = np.unique(df2020['TIPO GASTO'])\n",
        "unico"
      ],
      "metadata": {
        "colab": {
          "base_uri": "https://localhost:8080/"
        },
        "id": "xqwgDNe4U06y",
        "outputId": "3a8f42e6-8efb-4365-8266-fac4e0f15e55"
      },
      "execution_count": null,
      "outputs": [
        {
          "output_type": "execute_result",
          "data": {
            "text/plain": [
              "array(['ALIMENTOS', 'ARRENDAMIENTO FINANCIERO', 'ARRENDAMIENTO LOCAL',\n",
              "       'ATENCION CLIENTES', 'CALIBRACIONES', 'CAPACITACION',\n",
              "       'COMBUSTIBLE', 'COMISION BANCARIA', 'COMISION VENTA', 'COMPRAS',\n",
              "       'DERECHOS', 'ENERGIA ELECTRICA', 'FLETES', 'GERENCIA ADMON',\n",
              "       'GERENCIA VTAS', 'HONORARIOS ADMON', 'HONORARIOS CONTABLES',\n",
              "       'HONORARIOS PM', 'HOSPEDAJE', 'IMSS/INFONAVIT', 'MAQUILAS GIC',\n",
              "       'MAQUINARIA', 'MEDICOS', 'MENSAJERIA', 'MOBILIARIO',\n",
              "       'MTTO COMPUTO', 'MTTO LOCAL', 'MTTO TRANSPORTE', 'NO DEDUCIBLE',\n",
              "       'PAPELERIA', 'PAQUETERIA', 'PEAJES', 'PUBLICIDAD',\n",
              "       'REPARACIONES ELECTRICAS', 'SEGUROS', 'SERV FUNERARIO ',\n",
              "       'SUBCONTRATOS', 'SUSCRIPCIONES', 'TELEFONO', 'TRANSPORTE',\n",
              "       'UNIFORME', 'VALES DESPENSA'], dtype=object)"
            ]
          },
          "metadata": {},
          "execution_count": 386
        }
      ]
    },
    {
      "cell_type": "code",
      "source": [
        "#Convierto una variable a dicotómica \n",
        "df2020['TIPO GASTO']= df2020['TIPO GASTO'].replace(['ALIMENTOS', 'ARRENDAMIENTO FINANCIERO', 'ARRENDAMIENTO LOCAL',\n",
        "       'ATENCION CLIENTES', 'CALIBRACIONES', 'CAPACITACION',\n",
        "       'COMBUSTIBLE', 'COMISION BANCARIA', 'COMISION VENTA', \n",
        "       'DERECHOS', 'ENERGIA ELECTRICA', 'FLETES', 'GERENCIA ADMON',\n",
        "       'GERENCIA VTAS', 'HONORARIOS ADMON', 'HONORARIOS CONTABLES',\n",
        "       'HONORARIOS PM', 'HOSPEDAJE', 'IMSS/INFONAVIT', 'MAQUILAS GIC',\n",
        "       'MAQUINARIA', 'MEDICOS', 'MENSAJERIA', 'MOBILIARIO',\n",
        "       'MTTO COMPUTO', 'MTTO LOCAL', 'MTTO TRANSPORTE', 'NO DEDUCIBLE',\n",
        "       'PAPELERIA', 'PAQUETERIA', 'PEAJES', 'PUBLICIDAD',\n",
        "       'REPARACIONES ELECTRICAS', 'SEGUROS', 'SERV FUNERARIO ',\n",
        "       'SUBCONTRATOS', 'SUSCRIPCIONES', 'TELEFONO', 'TRANSPORTE',\n",
        "       'UNIFORME', 'VALES DESPENSA'], \"OTROS GASTOS\")"
      ],
      "metadata": {
        "id": "3mgpBG95TPf2"
      },
      "execution_count": null,
      "outputs": []
    },
    {
      "cell_type": "code",
      "source": [
        "#Declaramos las variables dependientes e independientes para la regresión Logística\n",
        "Vars_Indep= df2020[\"TOTAL MX\"]\n",
        "Var_Dep= df2020['TIPO GASTO']"
      ],
      "metadata": {
        "id": "3i_M-LC6ZQV0"
      },
      "execution_count": null,
      "outputs": []
    },
    {
      "cell_type": "code",
      "source": [
        "#Redefinimos las variables \n",
        "X2020= Vars_Indep\n",
        "y2020= Var_Dep"
      ],
      "metadata": {
        "id": "OSgKqy6Sof4Z"
      },
      "execution_count": null,
      "outputs": []
    },
    {
      "cell_type": "code",
      "source": [
        "# Convierte el objeto Series en un array numpy y remodela los datos si tienen una sola característica\n",
        "X2020 = X2020.values.reshape(-1, 1)\n",
        "\n",
        "# Divide los datos en conjuntos de entrenamiento y prueba\n",
        "X2020_train, X2020_test, y2020_train, y2020_test = train_test_split(X2020, y2020, test_size=0.3)\n",
        "\n",
        "# Crea una instancia de StandardScaler y escala los datos de entrenamiento y prueba\n",
        "escalar2020 = StandardScaler()\n",
        "X2020_train = escalar2020.fit_transform(X2020_train)\n",
        "X2020_test = escalar2020.transform(X2020_test)"
      ],
      "metadata": {
        "id": "V-UV3uHWofwg"
      },
      "execution_count": null,
      "outputs": []
    },
    {
      "cell_type": "code",
      "source": [
        "#Definimos el algoritmo a utilizar\n",
        "from sklearn.linear_model import LogisticRegression\n",
        "algoritmo = LogisticRegression()"
      ],
      "metadata": {
        "id": "OVe8R4vAofo1"
      },
      "execution_count": null,
      "outputs": []
    },
    {
      "cell_type": "code",
      "source": [
        "#Entrenamos el modelo\n",
        "algoritmo.fit(X2020_train, y2020_train)"
      ],
      "metadata": {
        "colab": {
          "base_uri": "https://localhost:8080/",
          "height": 74
        },
        "id": "pG1pGyA8ofhB",
        "outputId": "952fb98a-08bf-4182-a40a-40ebfae2c6c3"
      },
      "execution_count": null,
      "outputs": [
        {
          "output_type": "execute_result",
          "data": {
            "text/plain": [
              "LogisticRegression()"
            ],
            "text/html": [
              "<style>#sk-container-id-25 {color: black;background-color: white;}#sk-container-id-25 pre{padding: 0;}#sk-container-id-25 div.sk-toggleable {background-color: white;}#sk-container-id-25 label.sk-toggleable__label {cursor: pointer;display: block;width: 100%;margin-bottom: 0;padding: 0.3em;box-sizing: border-box;text-align: center;}#sk-container-id-25 label.sk-toggleable__label-arrow:before {content: \"▸\";float: left;margin-right: 0.25em;color: #696969;}#sk-container-id-25 label.sk-toggleable__label-arrow:hover:before {color: black;}#sk-container-id-25 div.sk-estimator:hover label.sk-toggleable__label-arrow:before {color: black;}#sk-container-id-25 div.sk-toggleable__content {max-height: 0;max-width: 0;overflow: hidden;text-align: left;background-color: #f0f8ff;}#sk-container-id-25 div.sk-toggleable__content pre {margin: 0.2em;color: black;border-radius: 0.25em;background-color: #f0f8ff;}#sk-container-id-25 input.sk-toggleable__control:checked~div.sk-toggleable__content {max-height: 200px;max-width: 100%;overflow: auto;}#sk-container-id-25 input.sk-toggleable__control:checked~label.sk-toggleable__label-arrow:before {content: \"▾\";}#sk-container-id-25 div.sk-estimator input.sk-toggleable__control:checked~label.sk-toggleable__label {background-color: #d4ebff;}#sk-container-id-25 div.sk-label input.sk-toggleable__control:checked~label.sk-toggleable__label {background-color: #d4ebff;}#sk-container-id-25 input.sk-hidden--visually {border: 0;clip: rect(1px 1px 1px 1px);clip: rect(1px, 1px, 1px, 1px);height: 1px;margin: -1px;overflow: hidden;padding: 0;position: absolute;width: 1px;}#sk-container-id-25 div.sk-estimator {font-family: monospace;background-color: #f0f8ff;border: 1px dotted black;border-radius: 0.25em;box-sizing: border-box;margin-bottom: 0.5em;}#sk-container-id-25 div.sk-estimator:hover {background-color: #d4ebff;}#sk-container-id-25 div.sk-parallel-item::after {content: \"\";width: 100%;border-bottom: 1px solid gray;flex-grow: 1;}#sk-container-id-25 div.sk-label:hover label.sk-toggleable__label {background-color: #d4ebff;}#sk-container-id-25 div.sk-serial::before {content: \"\";position: absolute;border-left: 1px solid gray;box-sizing: border-box;top: 0;bottom: 0;left: 50%;z-index: 0;}#sk-container-id-25 div.sk-serial {display: flex;flex-direction: column;align-items: center;background-color: white;padding-right: 0.2em;padding-left: 0.2em;position: relative;}#sk-container-id-25 div.sk-item {position: relative;z-index: 1;}#sk-container-id-25 div.sk-parallel {display: flex;align-items: stretch;justify-content: center;background-color: white;position: relative;}#sk-container-id-25 div.sk-item::before, #sk-container-id-25 div.sk-parallel-item::before {content: \"\";position: absolute;border-left: 1px solid gray;box-sizing: border-box;top: 0;bottom: 0;left: 50%;z-index: -1;}#sk-container-id-25 div.sk-parallel-item {display: flex;flex-direction: column;z-index: 1;position: relative;background-color: white;}#sk-container-id-25 div.sk-parallel-item:first-child::after {align-self: flex-end;width: 50%;}#sk-container-id-25 div.sk-parallel-item:last-child::after {align-self: flex-start;width: 50%;}#sk-container-id-25 div.sk-parallel-item:only-child::after {width: 0;}#sk-container-id-25 div.sk-dashed-wrapped {border: 1px dashed gray;margin: 0 0.4em 0.5em 0.4em;box-sizing: border-box;padding-bottom: 0.4em;background-color: white;}#sk-container-id-25 div.sk-label label {font-family: monospace;font-weight: bold;display: inline-block;line-height: 1.2em;}#sk-container-id-25 div.sk-label-container {text-align: center;}#sk-container-id-25 div.sk-container {/* jupyter's `normalize.less` sets `[hidden] { display: none; }` but bootstrap.min.css set `[hidden] { display: none !important; }` so we also need the `!important` here to be able to override the default hidden behavior on the sphinx rendered scikit-learn.org. See: https://github.com/scikit-learn/scikit-learn/issues/21755 */display: inline-block !important;position: relative;}#sk-container-id-25 div.sk-text-repr-fallback {display: none;}</style><div id=\"sk-container-id-25\" class=\"sk-top-container\"><div class=\"sk-text-repr-fallback\"><pre>LogisticRegression()</pre><b>In a Jupyter environment, please rerun this cell to show the HTML representation or trust the notebook. <br />On GitHub, the HTML representation is unable to render, please try loading this page with nbviewer.org.</b></div><div class=\"sk-container\" hidden><div class=\"sk-item\"><div class=\"sk-estimator sk-toggleable\"><input class=\"sk-toggleable__control sk-hidden--visually\" id=\"sk-estimator-id-25\" type=\"checkbox\" checked><label for=\"sk-estimator-id-25\" class=\"sk-toggleable__label sk-toggleable__label-arrow\">LogisticRegression</label><div class=\"sk-toggleable__content\"><pre>LogisticRegression()</pre></div></div></div></div></div>"
            ]
          },
          "metadata": {},
          "execution_count": 392
        }
      ]
    },
    {
      "cell_type": "code",
      "source": [
        "#Realizamos una predicción\n",
        "y2020_pred = algoritmo.predict(X2020_test) \n",
        "y2020_pred"
      ],
      "metadata": {
        "colab": {
          "base_uri": "https://localhost:8080/"
        },
        "id": "47JJorDYofZR",
        "outputId": "7dfd1a96-4a4e-4982-beaf-8dc4f2c98e44"
      },
      "execution_count": null,
      "outputs": [
        {
          "output_type": "execute_result",
          "data": {
            "text/plain": [
              "array(['OTROS GASTOS', 'OTROS GASTOS', 'OTROS GASTOS', ...,\n",
              "       'OTROS GASTOS', 'OTROS GASTOS', 'OTROS GASTOS'], dtype=object)"
            ]
          },
          "metadata": {},
          "execution_count": 393
        }
      ]
    },
    {
      "cell_type": "code",
      "source": [
        "#Verifico la matriz de Confusión\n",
        "from sklearn.metrics import confusion_matrix\n",
        "matriz2020 = confusion_matrix(y2020_test, y2020_pred)\n",
        "print('Matriz de Confusión:')\n",
        "print(matriz2020)"
      ],
      "metadata": {
        "colab": {
          "base_uri": "https://localhost:8080/"
        },
        "id": "Dul931MDpUyi",
        "outputId": "af5573fd-bdac-4cc0-d688-e8d32ab3e366"
      },
      "execution_count": null,
      "outputs": [
        {
          "output_type": "stream",
          "name": "stdout",
          "text": [
            "Matriz de Confusión:\n",
            "[[  0 437]\n",
            " [  1 565]]\n"
          ]
        }
      ]
    },
    {
      "cell_type": "code",
      "source": [
        "#Calculo la precisión del modelo\n",
        "from sklearn.metrics import precision_score\n",
        "\n",
        "precision2020 = precision_score(y2020_test, y2020_pred, average=\"binary\", pos_label=\"COMPRAS\")\n",
        "print('Precisión del modelo:')\n",
        "print(precision2020)"
      ],
      "metadata": {
        "colab": {
          "base_uri": "https://localhost:8080/"
        },
        "id": "UF3nL0a1pUhx",
        "outputId": "50ca27ee-142a-46d0-83a2-ecf2efbce391"
      },
      "execution_count": null,
      "outputs": [
        {
          "output_type": "stream",
          "name": "stdout",
          "text": [
            "Precisión del modelo:\n",
            "0.0\n"
          ]
        }
      ]
    },
    {
      "cell_type": "code",
      "source": [
        "#Calculo la exactitud del modelo\n",
        "from sklearn.metrics import accuracy_score\n",
        "\n",
        "exactitud2020 = accuracy_score(y2020_test, y2020_pred)\n",
        "print('Exactitud del modelo:')\n",
        "print(exactitud2020)"
      ],
      "metadata": {
        "colab": {
          "base_uri": "https://localhost:8080/"
        },
        "id": "hMJaQbpaofQw",
        "outputId": "440545c7-653e-423c-b0af-303822271f59"
      },
      "execution_count": null,
      "outputs": [
        {
          "output_type": "stream",
          "name": "stdout",
          "text": [
            "Exactitud del modelo:\n",
            "0.5633100697906281\n"
          ]
        }
      ]
    },
    {
      "cell_type": "code",
      "source": [
        "#Calculo la sensibilidad del modelo\n",
        "from sklearn.metrics import recall_score\n",
        "\n",
        "sensibilidad2020 = recall_score(y2020_test, y2020_pred, average=\"binary\", pos_label=\"COMPRAS\")\n",
        "print('Sensibilidad del modelo:')\n",
        "print(sensibilidad2020)"
      ],
      "metadata": {
        "colab": {
          "base_uri": "https://localhost:8080/"
        },
        "id": "hI4rqSc2pjrk",
        "outputId": "77771d8a-d68c-498d-bd28-a2f9512a3a46"
      },
      "execution_count": null,
      "outputs": [
        {
          "output_type": "stream",
          "name": "stdout",
          "text": [
            "Sensibilidad del modelo:\n",
            "0.0\n"
          ]
        }
      ]
    },
    {
      "cell_type": "code",
      "source": [
        "# el puntaje F1 que es una combinación entre la precisión y la sensibilidad, para esto importamos f1_score.\n",
        "#Calculo el Puntaje F1 del modelo\n",
        "from sklearn.metrics import f1_score\n",
        "\n",
        "puntajef12020 = f1_score(y2020_test, y2020_pred, average=\"binary\", pos_label=\"COMPRAS\")\n",
        "print('Puntaje F1 del modelo:')\n",
        "print(puntajef12020)"
      ],
      "metadata": {
        "colab": {
          "base_uri": "https://localhost:8080/"
        },
        "id": "48IVslO-ofDm",
        "outputId": "e9a00edb-3ab5-4851-c259-748af523e770"
      },
      "execution_count": null,
      "outputs": [
        {
          "output_type": "stream",
          "name": "stdout",
          "text": [
            "Puntaje F1 del modelo:\n",
            "0.0\n"
          ]
        }
      ]
    },
    {
      "cell_type": "code",
      "source": [
        "# Crear un diccionario con los resultados\n",
        "resultados = {'Exactitud': [exactitud2020],\n",
        "              'Sensibilidad': [sensibilidad2020],\n",
        "              'Precisión': [precision2020]}\n",
        "\n",
        "# Convertir el diccionario en un DataFrame de pandas\n",
        "tabla_resultados20 = pd.DataFrame(resultados)\n",
        "\n",
        "# Establecer un índice descriptivo para la tabla\n",
        "tabla_resultados20.index = ['Modelo 2020']\n",
        "\n",
        "# Imprimir la tabla de resultados\n",
        "print(tabla_resultados20)"
      ],
      "metadata": {
        "colab": {
          "base_uri": "https://localhost:8080/"
        },
        "id": "3fNGbN5tptoS",
        "outputId": "62a8001e-454d-4033-8c71-ad779a5379d0"
      },
      "execution_count": null,
      "outputs": [
        {
          "output_type": "stream",
          "name": "stdout",
          "text": [
            "             Exactitud  Sensibilidad  Precisión\n",
            "Modelo 2020    0.56331           0.0        0.0\n"
          ]
        }
      ]
    },
    {
      "cell_type": "code",
      "source": [
        "# Carga desde un archivo .xlsx sin indice\n",
        "df20 = pd.read_excel('Gastos_costos_2020.xlsx')\n",
        "\n",
        "# Rellenamos nulos\n",
        "df2020 = df20.fillna(method=\"bfill\")\n",
        "df2020 = df20.fillna(method=\"ffill\")\n",
        "\n",
        "# Convierto una variable a dicotómica\n",
        "df2020['TIPO GASTO'] = df2020['TIPO GASTO'].apply(lambda x: 1 if x == 'COMPRAS' else 0)\n",
        "\n",
        "# Declaramos las variables dependientes e independientes para la regresión Logística\n",
        "X2020 = df2020[\"TOTAL MX\"].values.reshape(-1, 1)\n",
        "y2020 = df2020['TIPO GASTO']\n",
        "\n",
        "# Divide los datos en conjuntos de entrenamiento y prueba\n",
        "X2020_train, X2020_test, y2020_train, y2020_test = train_test_split(X2020, y2020, test_size=0.3)\n",
        "\n",
        "# Crea una instancia de StandardScaler y escala los datos de entrenamiento y prueba\n",
        "escalar2020 = StandardScaler()\n",
        "X2020_train = escalar2020.fit_transform(X2020_train)\n",
        "X2020_test = escalar2020.transform(X2020_test)\n",
        "\n",
        "# Definimos el algoritmo a utilizar\n",
        "algoritmo = LogisticRegression()\n",
        "\n",
        "# Entrenamos el modelo\n",
        "algoritmo.fit(X2020_train, y2020_train)\n",
        "\n",
        "# Realizamos una predicción\n",
        "y2020_pred = algoritmo.predict(X2020_test)\n",
        "\n",
        "# Verifico la matriz de Confusión\n",
        "matriz2020 = confusion_matrix(y2020_test, y2020_pred)\n",
        "print('Matriz de Confusión:')\n",
        "print(matriz2020)\n",
        "\n",
        "# Calcular la precisión\n",
        "precision = precision_score(y2020_test, y2020_pred)\n",
        "print(f'Precisión: {precision}')\n",
        "\n",
        "# Calcular la exactitud\n",
        "exactitud = accuracy_score(y2020_test, y2020_pred)\n",
        "print(f'Exactitud: {exactitud}')\n",
        "\n",
        "# Calcular la sensibilidad (recall)\n",
        "sensibilidad = recall_score(y2020_test, y2020_pred)\n",
        "print(f'Sensibilidad: {sensibilidad}')"
      ],
      "metadata": {
        "colab": {
          "base_uri": "https://localhost:8080/"
        },
        "id": "Sh-7BVBaJqpE",
        "outputId": "0e665666-650e-4a84-b61f-ab6cbcef9271"
      },
      "execution_count": null,
      "outputs": [
        {
          "output_type": "stream",
          "name": "stdout",
          "text": [
            "Matriz de Confusión:\n",
            "[[568   1]\n",
            " [434   0]]\n",
            "Precisión: 0.0\n",
            "Exactitud: 0.5663010967098704\n",
            "Sensibilidad: 0.0\n"
          ]
        }
      ]
    },
    {
      "cell_type": "markdown",
      "source": [
        "## **2021**"
      ],
      "metadata": {
        "id": "PNagic4JaVc8"
      }
    },
    {
      "cell_type": "code",
      "source": [
        "#Carga desde un archivo .xlsx sin indice\n",
        "df21= pd.read_excel('Gastos_costos_2021.xlsx')\n",
        "df21.head(5)"
      ],
      "metadata": {
        "colab": {
          "base_uri": "https://localhost:8080/",
          "height": 574
        },
        "id": "D99qmChqacEe",
        "outputId": "bd4703b6-c13c-4018-cac2-0a0cce7535d6"
      },
      "execution_count": null,
      "outputs": [
        {
          "output_type": "execute_result",
          "data": {
            "text/plain": [
              "       FECHA                   FOLIO                                  UUID  \\\n",
              "0 2021-01-01  0001010100750847116902  71B4C8B9-8DAA-47CC-AD47-9DD90AA5AF6B   \n",
              "1 2021-01-01  0001010100752163714102  B8AEDE83-CC76-404C-A611-6B5A87BA561F   \n",
              "2 2021-01-01                   19788  19B9B2C2-DF58-E24D-B43A-3FC4D5A929E7   \n",
              "3 2021-01-01                  211781  EAB26414-DD9A-4E8F-9F5C-05FE24D98E48   \n",
              "4 2021-01-01                  211782  C16F79B5-FB35-4BFC-AF84-708B24F500BB   \n",
              "\n",
              "            RFC                               PROVEEDOR  \\\n",
              "0  BNM840515VB1          BANCO NACIONAL DE MEXICO, S.A.   \n",
              "1  BNM840515VB1          BANCO NACIONAL DE MEXICO, S.A.   \n",
              "2  ESI9612311E7  ELECTRONICOS Y SIMILARES, S.A. DE C.V.   \n",
              "3  BLE1512082R9            BEPENSA LEASING S.A. DE C.V.   \n",
              "4  BLE1512082R9            BEPENSA LEASING S.A. DE C.V.   \n",
              "\n",
              "                 TIPO GASTO  \\\n",
              "0         COMISION BANCARIA   \n",
              "1         COMISION BANCARIA   \n",
              "2                   COMPRAS   \n",
              "3  ARRENDAMIENTO FINANCIERO   \n",
              "4  ARRENDAMIENTO FINANCIERO   \n",
              "\n",
              "                                         DESCRIPCION   MP   TC  IMPORTE  \\\n",
              "0                                   COMISION COBRADA  PUE  1.0   490.00   \n",
              "1                                   COMISION COBRADA  PUE  1.0   345.00   \n",
              "2                        MOTO E7 PLUS AZUL 64GB 4RAM  PUE  1.0  3447.41   \n",
              "3  AA RENTA EXIGIBLE CL0000006876 6/36 de 03/12/2...  PPD  1.0  5551.38   \n",
              "4  AA RENTA EXIGIBLE CL0000006877 6/36 de 03/12/2...  PPD  1.0  5551.98   \n",
              "\n",
              "      IVA  RET ISR  RET IVA  TOTAL MX  TOTAL SAT TIPO   STATUS POLIZA  \n",
              "0   78.40      0.0      0.0     568.4      568.4    I  Vigente      0  \n",
              "1   55.20      0.0      0.0     400.2      400.2    I  Vigente      0  \n",
              "2  551.59      0.0      0.0    3999.0     3999.0    I  Vigente      0  \n",
              "3  888.22      0.0      0.0    6439.6     6439.6    I  Vigente      0  \n",
              "4  888.32      0.0      0.0    6440.3     6440.3    I  Vigente      0  "
            ],
            "text/html": [
              "\n",
              "  <div id=\"df-4a202a7c-6b14-4780-b74d-689d16593e7c\">\n",
              "    <div class=\"colab-df-container\">\n",
              "      <div>\n",
              "<style scoped>\n",
              "    .dataframe tbody tr th:only-of-type {\n",
              "        vertical-align: middle;\n",
              "    }\n",
              "\n",
              "    .dataframe tbody tr th {\n",
              "        vertical-align: top;\n",
              "    }\n",
              "\n",
              "    .dataframe thead th {\n",
              "        text-align: right;\n",
              "    }\n",
              "</style>\n",
              "<table border=\"1\" class=\"dataframe\">\n",
              "  <thead>\n",
              "    <tr style=\"text-align: right;\">\n",
              "      <th></th>\n",
              "      <th>FECHA</th>\n",
              "      <th>FOLIO</th>\n",
              "      <th>UUID</th>\n",
              "      <th>RFC</th>\n",
              "      <th>PROVEEDOR</th>\n",
              "      <th>TIPO GASTO</th>\n",
              "      <th>DESCRIPCION</th>\n",
              "      <th>MP</th>\n",
              "      <th>TC</th>\n",
              "      <th>IMPORTE</th>\n",
              "      <th>IVA</th>\n",
              "      <th>RET ISR</th>\n",
              "      <th>RET IVA</th>\n",
              "      <th>TOTAL MX</th>\n",
              "      <th>TOTAL SAT</th>\n",
              "      <th>TIPO</th>\n",
              "      <th>STATUS</th>\n",
              "      <th>POLIZA</th>\n",
              "    </tr>\n",
              "  </thead>\n",
              "  <tbody>\n",
              "    <tr>\n",
              "      <th>0</th>\n",
              "      <td>2021-01-01</td>\n",
              "      <td>0001010100750847116902</td>\n",
              "      <td>71B4C8B9-8DAA-47CC-AD47-9DD90AA5AF6B</td>\n",
              "      <td>BNM840515VB1</td>\n",
              "      <td>BANCO NACIONAL DE MEXICO, S.A.</td>\n",
              "      <td>COMISION BANCARIA</td>\n",
              "      <td>COMISION COBRADA</td>\n",
              "      <td>PUE</td>\n",
              "      <td>1.0</td>\n",
              "      <td>490.00</td>\n",
              "      <td>78.40</td>\n",
              "      <td>0.0</td>\n",
              "      <td>0.0</td>\n",
              "      <td>568.4</td>\n",
              "      <td>568.4</td>\n",
              "      <td>I</td>\n",
              "      <td>Vigente</td>\n",
              "      <td>0</td>\n",
              "    </tr>\n",
              "    <tr>\n",
              "      <th>1</th>\n",
              "      <td>2021-01-01</td>\n",
              "      <td>0001010100752163714102</td>\n",
              "      <td>B8AEDE83-CC76-404C-A611-6B5A87BA561F</td>\n",
              "      <td>BNM840515VB1</td>\n",
              "      <td>BANCO NACIONAL DE MEXICO, S.A.</td>\n",
              "      <td>COMISION BANCARIA</td>\n",
              "      <td>COMISION COBRADA</td>\n",
              "      <td>PUE</td>\n",
              "      <td>1.0</td>\n",
              "      <td>345.00</td>\n",
              "      <td>55.20</td>\n",
              "      <td>0.0</td>\n",
              "      <td>0.0</td>\n",
              "      <td>400.2</td>\n",
              "      <td>400.2</td>\n",
              "      <td>I</td>\n",
              "      <td>Vigente</td>\n",
              "      <td>0</td>\n",
              "    </tr>\n",
              "    <tr>\n",
              "      <th>2</th>\n",
              "      <td>2021-01-01</td>\n",
              "      <td>19788</td>\n",
              "      <td>19B9B2C2-DF58-E24D-B43A-3FC4D5A929E7</td>\n",
              "      <td>ESI9612311E7</td>\n",
              "      <td>ELECTRONICOS Y SIMILARES, S.A. DE C.V.</td>\n",
              "      <td>COMPRAS</td>\n",
              "      <td>MOTO E7 PLUS AZUL 64GB 4RAM</td>\n",
              "      <td>PUE</td>\n",
              "      <td>1.0</td>\n",
              "      <td>3447.41</td>\n",
              "      <td>551.59</td>\n",
              "      <td>0.0</td>\n",
              "      <td>0.0</td>\n",
              "      <td>3999.0</td>\n",
              "      <td>3999.0</td>\n",
              "      <td>I</td>\n",
              "      <td>Vigente</td>\n",
              "      <td>0</td>\n",
              "    </tr>\n",
              "    <tr>\n",
              "      <th>3</th>\n",
              "      <td>2021-01-01</td>\n",
              "      <td>211781</td>\n",
              "      <td>EAB26414-DD9A-4E8F-9F5C-05FE24D98E48</td>\n",
              "      <td>BLE1512082R9</td>\n",
              "      <td>BEPENSA LEASING S.A. DE C.V.</td>\n",
              "      <td>ARRENDAMIENTO FINANCIERO</td>\n",
              "      <td>AA RENTA EXIGIBLE CL0000006876 6/36 de 03/12/2...</td>\n",
              "      <td>PPD</td>\n",
              "      <td>1.0</td>\n",
              "      <td>5551.38</td>\n",
              "      <td>888.22</td>\n",
              "      <td>0.0</td>\n",
              "      <td>0.0</td>\n",
              "      <td>6439.6</td>\n",
              "      <td>6439.6</td>\n",
              "      <td>I</td>\n",
              "      <td>Vigente</td>\n",
              "      <td>0</td>\n",
              "    </tr>\n",
              "    <tr>\n",
              "      <th>4</th>\n",
              "      <td>2021-01-01</td>\n",
              "      <td>211782</td>\n",
              "      <td>C16F79B5-FB35-4BFC-AF84-708B24F500BB</td>\n",
              "      <td>BLE1512082R9</td>\n",
              "      <td>BEPENSA LEASING S.A. DE C.V.</td>\n",
              "      <td>ARRENDAMIENTO FINANCIERO</td>\n",
              "      <td>AA RENTA EXIGIBLE CL0000006877 6/36 de 03/12/2...</td>\n",
              "      <td>PPD</td>\n",
              "      <td>1.0</td>\n",
              "      <td>5551.98</td>\n",
              "      <td>888.32</td>\n",
              "      <td>0.0</td>\n",
              "      <td>0.0</td>\n",
              "      <td>6440.3</td>\n",
              "      <td>6440.3</td>\n",
              "      <td>I</td>\n",
              "      <td>Vigente</td>\n",
              "      <td>0</td>\n",
              "    </tr>\n",
              "  </tbody>\n",
              "</table>\n",
              "</div>\n",
              "      <button class=\"colab-df-convert\" onclick=\"convertToInteractive('df-4a202a7c-6b14-4780-b74d-689d16593e7c')\"\n",
              "              title=\"Convert this dataframe to an interactive table.\"\n",
              "              style=\"display:none;\">\n",
              "        \n",
              "  <svg xmlns=\"http://www.w3.org/2000/svg\" height=\"24px\"viewBox=\"0 0 24 24\"\n",
              "       width=\"24px\">\n",
              "    <path d=\"M0 0h24v24H0V0z\" fill=\"none\"/>\n",
              "    <path d=\"M18.56 5.44l.94 2.06.94-2.06 2.06-.94-2.06-.94-.94-2.06-.94 2.06-2.06.94zm-11 1L8.5 8.5l.94-2.06 2.06-.94-2.06-.94L8.5 2.5l-.94 2.06-2.06.94zm10 10l.94 2.06.94-2.06 2.06-.94-2.06-.94-.94-2.06-.94 2.06-2.06.94z\"/><path d=\"M17.41 7.96l-1.37-1.37c-.4-.4-.92-.59-1.43-.59-.52 0-1.04.2-1.43.59L10.3 9.45l-7.72 7.72c-.78.78-.78 2.05 0 2.83L4 21.41c.39.39.9.59 1.41.59.51 0 1.02-.2 1.41-.59l7.78-7.78 2.81-2.81c.8-.78.8-2.07 0-2.86zM5.41 20L4 18.59l7.72-7.72 1.47 1.35L5.41 20z\"/>\n",
              "  </svg>\n",
              "      </button>\n",
              "      \n",
              "  <style>\n",
              "    .colab-df-container {\n",
              "      display:flex;\n",
              "      flex-wrap:wrap;\n",
              "      gap: 12px;\n",
              "    }\n",
              "\n",
              "    .colab-df-convert {\n",
              "      background-color: #E8F0FE;\n",
              "      border: none;\n",
              "      border-radius: 50%;\n",
              "      cursor: pointer;\n",
              "      display: none;\n",
              "      fill: #1967D2;\n",
              "      height: 32px;\n",
              "      padding: 0 0 0 0;\n",
              "      width: 32px;\n",
              "    }\n",
              "\n",
              "    .colab-df-convert:hover {\n",
              "      background-color: #E2EBFA;\n",
              "      box-shadow: 0px 1px 2px rgba(60, 64, 67, 0.3), 0px 1px 3px 1px rgba(60, 64, 67, 0.15);\n",
              "      fill: #174EA6;\n",
              "    }\n",
              "\n",
              "    [theme=dark] .colab-df-convert {\n",
              "      background-color: #3B4455;\n",
              "      fill: #D2E3FC;\n",
              "    }\n",
              "\n",
              "    [theme=dark] .colab-df-convert:hover {\n",
              "      background-color: #434B5C;\n",
              "      box-shadow: 0px 1px 3px 1px rgba(0, 0, 0, 0.15);\n",
              "      filter: drop-shadow(0px 1px 2px rgba(0, 0, 0, 0.3));\n",
              "      fill: #FFFFFF;\n",
              "    }\n",
              "  </style>\n",
              "\n",
              "      <script>\n",
              "        const buttonEl =\n",
              "          document.querySelector('#df-4a202a7c-6b14-4780-b74d-689d16593e7c button.colab-df-convert');\n",
              "        buttonEl.style.display =\n",
              "          google.colab.kernel.accessAllowed ? 'block' : 'none';\n",
              "\n",
              "        async function convertToInteractive(key) {\n",
              "          const element = document.querySelector('#df-4a202a7c-6b14-4780-b74d-689d16593e7c');\n",
              "          const dataTable =\n",
              "            await google.colab.kernel.invokeFunction('convertToInteractive',\n",
              "                                                     [key], {});\n",
              "          if (!dataTable) return;\n",
              "\n",
              "          const docLinkHtml = 'Like what you see? Visit the ' +\n",
              "            '<a target=\"_blank\" href=https://colab.research.google.com/notebooks/data_table.ipynb>data table notebook</a>'\n",
              "            + ' to learn more about interactive tables.';\n",
              "          element.innerHTML = '';\n",
              "          dataTable['output_type'] = 'display_data';\n",
              "          await google.colab.output.renderOutput(dataTable, element);\n",
              "          const docLink = document.createElement('div');\n",
              "          docLink.innerHTML = docLinkHtml;\n",
              "          element.appendChild(docLink);\n",
              "        }\n",
              "      </script>\n",
              "    </div>\n",
              "  </div>\n",
              "  "
            ]
          },
          "metadata": {},
          "execution_count": 190
        }
      ]
    },
    {
      "cell_type": "code",
      "source": [
        "#Rellenamos nulos\n",
        "df2021 =df21.fillna(method=\"bfill\")\n",
        "df2021 =df21.fillna(method=\"ffill\")"
      ],
      "metadata": {
        "id": "S7L9D_oFa7py"
      },
      "execution_count": null,
      "outputs": []
    },
    {
      "cell_type": "code",
      "source": [
        "#Verificar los valores sin repetirse de una columna\n",
        "unico = np.unique(df2021['TIPO GASTO'])\n",
        "unico"
      ],
      "metadata": {
        "colab": {
          "base_uri": "https://localhost:8080/"
        },
        "id": "xXzsLbXSa9Z7",
        "outputId": "3416b6a9-8c47-480a-99ff-9fba4c107acc"
      },
      "execution_count": null,
      "outputs": [
        {
          "output_type": "execute_result",
          "data": {
            "text/plain": [
              "array(['ALIMENTOS', 'ARRENDAMIENTO FINANCIERO', 'ARRENDAMIENTO LOCAL',\n",
              "       'BOTIQUIN', 'CALIBRACIONES', 'CAPACITACION', 'COMBUSTIBLE ',\n",
              "       'COMISION BANCARIA', 'COMISION MIXTA', 'COMPRA COMPUTADORA ',\n",
              "       'COMPRA TABLET ', 'COMPRAS', 'COMPRAS ', 'DERECHOS',\n",
              "       'ENERGIA ELECTRICA', 'FLETE', 'FLETES', 'GASOLINA',\n",
              "       'GASTOS IMPORTACION ', 'GERENCIA ADMON', 'GERENCIA VTAS',\n",
              "       'HONORARIOS CONTABLES', 'HONORARIOS JURIDICOS', 'HONORARIOS PF',\n",
              "       'HONORARIOS PM', 'HOSPEDAJE', 'HOSPEDAJE ', 'IMSS/INFONAVIT',\n",
              "       'MAQUILAS', 'MAQUILAS GIC', 'MAQUINARIA', 'MEDICOS', 'MENSAJERIA',\n",
              "       'MONITOREO CAMARAS ADT', 'MTTO COMPUTO', 'MTTO LOCAL',\n",
              "       'MTTO MAQUINARIA', 'MTTO OFICINA ', 'MTTO TRANSPORTE',\n",
              "       'NO DEDUCIBLE', 'PAPELERIA', 'PAQUETERIA', 'PEAJES', 'PUBLICIDAD',\n",
              "       'RENTA COPIADORA', 'RENTA OFICINA ', 'SANITIZACION', 'SEGUROS',\n",
              "       'SUELDOS DIRECCION', 'SUELDOS PRODUCCION', 'SUELDOS VENTAS',\n",
              "       'SUSCRIPCIONES', 'TELEFONO', 'TRANSPORTE', 'UNIFORME',\n",
              "       'VALES DESPENSA'], dtype=object)"
            ]
          },
          "metadata": {},
          "execution_count": 192
        }
      ]
    },
    {
      "cell_type": "code",
      "source": [
        "df2021['TIPO GASTO'] = df2021['TIPO GASTO'].apply(lambda x: 1 if x == 'COMPRAS' else 0)"
      ],
      "metadata": {
        "id": "r-iILv9yyN4S"
      },
      "execution_count": null,
      "outputs": []
    },
    {
      "cell_type": "code",
      "source": [
        "#Declaramos las variables dependientes e independientes para la regresión Logística\n",
        "Vars_Indep= df2021[\"TOTAL MX\"]\n",
        "Var_Dep= df2021['TIPO GASTO']"
      ],
      "metadata": {
        "id": "0sUDxokdZyWt"
      },
      "execution_count": null,
      "outputs": []
    },
    {
      "cell_type": "code",
      "source": [
        "#Redefinimos las variables \n",
        "X2021= Vars_Indep\n",
        "y2021= Var_Dep"
      ],
      "metadata": {
        "id": "ZHjHXjn2aDPB"
      },
      "execution_count": null,
      "outputs": []
    },
    {
      "cell_type": "code",
      "source": [
        "# Convierte el objeto Series en un array numpy y remodela los datos si tienen una sola característica\n",
        "X2021 = X2021.values.reshape(-1, 1)\n",
        "\n",
        "# Divide los datos en conjuntos de entrenamiento y prueba\n",
        "X2021_train, X2021_test, y2021_train, y2021_test = train_test_split(X2021, y2021, test_size=0.3)\n",
        "\n",
        "# Crea una instancia de StandardScaler y escala los datos de entrenamiento y prueba\n",
        "escalar2021 = StandardScaler()\n",
        "X2021_train = escalar2021.fit_transform(X2021_train)\n",
        "X2021_test = escalar2021.transform(X2021_test)"
      ],
      "metadata": {
        "id": "8nltSxwtatIE"
      },
      "execution_count": null,
      "outputs": []
    },
    {
      "cell_type": "code",
      "source": [
        "#Definimos el algoritmo a utilizar\n",
        "from sklearn.linear_model import LogisticRegression\n",
        "algoritmo = LogisticRegression()"
      ],
      "metadata": {
        "id": "PGiXNwQ4bFQR"
      },
      "execution_count": null,
      "outputs": []
    },
    {
      "cell_type": "code",
      "source": [
        "#Entrenamos el modelo\n",
        "algoritmo.fit(X2021_train, y2021_train)"
      ],
      "metadata": {
        "colab": {
          "base_uri": "https://localhost:8080/",
          "height": 74
        },
        "id": "qZx1UlSNbHR3",
        "outputId": "d55c5dc5-6ae8-4e76-c1b0-01531d86e8a2"
      },
      "execution_count": null,
      "outputs": [
        {
          "output_type": "execute_result",
          "data": {
            "text/plain": [
              "LogisticRegression()"
            ],
            "text/html": [
              "<style>#sk-container-id-14 {color: black;background-color: white;}#sk-container-id-14 pre{padding: 0;}#sk-container-id-14 div.sk-toggleable {background-color: white;}#sk-container-id-14 label.sk-toggleable__label {cursor: pointer;display: block;width: 100%;margin-bottom: 0;padding: 0.3em;box-sizing: border-box;text-align: center;}#sk-container-id-14 label.sk-toggleable__label-arrow:before {content: \"▸\";float: left;margin-right: 0.25em;color: #696969;}#sk-container-id-14 label.sk-toggleable__label-arrow:hover:before {color: black;}#sk-container-id-14 div.sk-estimator:hover label.sk-toggleable__label-arrow:before {color: black;}#sk-container-id-14 div.sk-toggleable__content {max-height: 0;max-width: 0;overflow: hidden;text-align: left;background-color: #f0f8ff;}#sk-container-id-14 div.sk-toggleable__content pre {margin: 0.2em;color: black;border-radius: 0.25em;background-color: #f0f8ff;}#sk-container-id-14 input.sk-toggleable__control:checked~div.sk-toggleable__content {max-height: 200px;max-width: 100%;overflow: auto;}#sk-container-id-14 input.sk-toggleable__control:checked~label.sk-toggleable__label-arrow:before {content: \"▾\";}#sk-container-id-14 div.sk-estimator input.sk-toggleable__control:checked~label.sk-toggleable__label {background-color: #d4ebff;}#sk-container-id-14 div.sk-label input.sk-toggleable__control:checked~label.sk-toggleable__label {background-color: #d4ebff;}#sk-container-id-14 input.sk-hidden--visually {border: 0;clip: rect(1px 1px 1px 1px);clip: rect(1px, 1px, 1px, 1px);height: 1px;margin: -1px;overflow: hidden;padding: 0;position: absolute;width: 1px;}#sk-container-id-14 div.sk-estimator {font-family: monospace;background-color: #f0f8ff;border: 1px dotted black;border-radius: 0.25em;box-sizing: border-box;margin-bottom: 0.5em;}#sk-container-id-14 div.sk-estimator:hover {background-color: #d4ebff;}#sk-container-id-14 div.sk-parallel-item::after {content: \"\";width: 100%;border-bottom: 1px solid gray;flex-grow: 1;}#sk-container-id-14 div.sk-label:hover label.sk-toggleable__label {background-color: #d4ebff;}#sk-container-id-14 div.sk-serial::before {content: \"\";position: absolute;border-left: 1px solid gray;box-sizing: border-box;top: 0;bottom: 0;left: 50%;z-index: 0;}#sk-container-id-14 div.sk-serial {display: flex;flex-direction: column;align-items: center;background-color: white;padding-right: 0.2em;padding-left: 0.2em;position: relative;}#sk-container-id-14 div.sk-item {position: relative;z-index: 1;}#sk-container-id-14 div.sk-parallel {display: flex;align-items: stretch;justify-content: center;background-color: white;position: relative;}#sk-container-id-14 div.sk-item::before, #sk-container-id-14 div.sk-parallel-item::before {content: \"\";position: absolute;border-left: 1px solid gray;box-sizing: border-box;top: 0;bottom: 0;left: 50%;z-index: -1;}#sk-container-id-14 div.sk-parallel-item {display: flex;flex-direction: column;z-index: 1;position: relative;background-color: white;}#sk-container-id-14 div.sk-parallel-item:first-child::after {align-self: flex-end;width: 50%;}#sk-container-id-14 div.sk-parallel-item:last-child::after {align-self: flex-start;width: 50%;}#sk-container-id-14 div.sk-parallel-item:only-child::after {width: 0;}#sk-container-id-14 div.sk-dashed-wrapped {border: 1px dashed gray;margin: 0 0.4em 0.5em 0.4em;box-sizing: border-box;padding-bottom: 0.4em;background-color: white;}#sk-container-id-14 div.sk-label label {font-family: monospace;font-weight: bold;display: inline-block;line-height: 1.2em;}#sk-container-id-14 div.sk-label-container {text-align: center;}#sk-container-id-14 div.sk-container {/* jupyter's `normalize.less` sets `[hidden] { display: none; }` but bootstrap.min.css set `[hidden] { display: none !important; }` so we also need the `!important` here to be able to override the default hidden behavior on the sphinx rendered scikit-learn.org. See: https://github.com/scikit-learn/scikit-learn/issues/21755 */display: inline-block !important;position: relative;}#sk-container-id-14 div.sk-text-repr-fallback {display: none;}</style><div id=\"sk-container-id-14\" class=\"sk-top-container\"><div class=\"sk-text-repr-fallback\"><pre>LogisticRegression()</pre><b>In a Jupyter environment, please rerun this cell to show the HTML representation or trust the notebook. <br />On GitHub, the HTML representation is unable to render, please try loading this page with nbviewer.org.</b></div><div class=\"sk-container\" hidden><div class=\"sk-item\"><div class=\"sk-estimator sk-toggleable\"><input class=\"sk-toggleable__control sk-hidden--visually\" id=\"sk-estimator-id-14\" type=\"checkbox\" checked><label for=\"sk-estimator-id-14\" class=\"sk-toggleable__label sk-toggleable__label-arrow\">LogisticRegression</label><div class=\"sk-toggleable__content\"><pre>LogisticRegression()</pre></div></div></div></div></div>"
            ]
          },
          "metadata": {},
          "execution_count": 209
        }
      ]
    },
    {
      "cell_type": "code",
      "source": [
        "#Realizamos una predicción\n",
        "y2021_pred = algoritmo.predict(X2021_test) \n",
        "y2021_pred"
      ],
      "metadata": {
        "id": "QAUvu3lKaTwj"
      },
      "execution_count": null,
      "outputs": []
    },
    {
      "cell_type": "code",
      "source": [
        "#Verifico la matriz de Confusión\n",
        "from sklearn.metrics import confusion_matrix\n",
        "matriz2021 = confusion_matrix(y2021_test, y2021_pred)\n",
        "print('Matriz de Confusión:')\n",
        "print(matriz2021)"
      ],
      "metadata": {
        "colab": {
          "base_uri": "https://localhost:8080/"
        },
        "id": "G8-4Bo1KbQAl",
        "outputId": "3b2b68ba-e85a-4c2a-809a-80fac449b673"
      },
      "execution_count": null,
      "outputs": [
        {
          "output_type": "stream",
          "name": "stdout",
          "text": [
            "Matriz de Confusión:\n",
            "[[115 356]\n",
            " [ 94 346]]\n"
          ]
        }
      ]
    },
    {
      "cell_type": "code",
      "source": [
        "print(\"Etiquetas únicas en y2021_test:\", np.unique(y2021_test))\n",
        "print(\"Etiquetas únicas en y2021_pred:\", np.unique(y2021_pred))"
      ],
      "metadata": {
        "colab": {
          "base_uri": "https://localhost:8080/"
        },
        "id": "DIgpjXvIwm0c",
        "outputId": "78e7e149-c6f8-4c2e-e58f-036c681d5b58"
      },
      "execution_count": null,
      "outputs": [
        {
          "output_type": "stream",
          "name": "stdout",
          "text": [
            "Etiquetas únicas en y2021_test: [0 1]\n",
            "Etiquetas únicas en y2021_pred: [0 1]\n"
          ]
        }
      ]
    },
    {
      "cell_type": "code",
      "source": [
        "#Calculo la precisión del modelo\n",
        "from sklearn.metrics import precision_score\n",
        "\n",
        "precision2021 = precision_score(y2021_test, y2021_pred, average=\"binary\", pos_label=1)\n",
        "print('Precisión del modelo:')\n",
        "print(precision2021)\n"
      ],
      "metadata": {
        "colab": {
          "base_uri": "https://localhost:8080/"
        },
        "id": "nlkY6z0UaTiN",
        "outputId": "2ba5682e-bc28-4a2c-fb16-87df9de22569"
      },
      "execution_count": null,
      "outputs": [
        {
          "output_type": "stream",
          "name": "stdout",
          "text": [
            "Precisión del modelo:\n",
            "0.4928774928774929\n"
          ]
        }
      ]
    },
    {
      "cell_type": "code",
      "source": [
        "#Calculo la exactitud del modelo\n",
        "from sklearn.metrics import accuracy_score\n",
        "\n",
        "exactitud2021 = accuracy_score(y2021_test, y2021_pred)\n",
        "print('Exactitud del modelo:')\n",
        "print(exactitud2021)"
      ],
      "metadata": {
        "colab": {
          "base_uri": "https://localhost:8080/"
        },
        "id": "NwS_W0tSdaAe",
        "outputId": "a7cea0e4-0e88-4011-db0b-67f0df904598"
      },
      "execution_count": null,
      "outputs": [
        {
          "output_type": "stream",
          "name": "stdout",
          "text": [
            "Exactitud del modelo:\n",
            "0.5060373216245884\n"
          ]
        }
      ]
    },
    {
      "cell_type": "code",
      "source": [
        "#Calculo la sensibilidad del modelo\n",
        "from sklearn.metrics import recall_score\n",
        "\n",
        "sensibilidad2021 = recall_score(y2021_test, y2021_pred, average=\"binary\", pos_label=1)\n",
        "print('Sensibilidad del modelo:')\n",
        "print(sensibilidad2021)"
      ],
      "metadata": {
        "colab": {
          "base_uri": "https://localhost:8080/"
        },
        "id": "09HOFwi2dfdn",
        "outputId": "3e84cc10-f511-4542-cabc-f7842fa4961b"
      },
      "execution_count": null,
      "outputs": [
        {
          "output_type": "stream",
          "name": "stdout",
          "text": [
            "Sensibilidad del modelo:\n",
            "0.7863636363636364\n"
          ]
        }
      ]
    },
    {
      "cell_type": "code",
      "source": [
        "# el puntaje F1 que es una combinación entre la precisión y la sensibilidad, para esto importamos f1_score.\n",
        "#Calculo el Puntaje F1 del modelo\n",
        "from sklearn.metrics import f1_score\n",
        "\n",
        "puntajef12021 = f1_score(y2021_test, y2021_pred, average=\"binary\", pos_label=1)\n",
        "print('Puntaje F1 del modelo:')\n",
        "print(puntajef12021)"
      ],
      "metadata": {
        "colab": {
          "base_uri": "https://localhost:8080/"
        },
        "id": "qIg-3yC_dmJg",
        "outputId": "0abd3239-d999-4446-8513-fe53421f9e13"
      },
      "execution_count": null,
      "outputs": [
        {
          "output_type": "stream",
          "name": "stdout",
          "text": [
            "Puntaje F1 del modelo:\n",
            "0.6059544658493871\n"
          ]
        }
      ]
    },
    {
      "cell_type": "code",
      "source": [
        "# Crear un diccionario con los resultados\n",
        "resultados = {'Exactitud': [exactitud2021],\n",
        "              'Sensibilidad': [sensibilidad2021],\n",
        "              'Precisión': [precision2021]}\n",
        "\n",
        "# Convertir el diccionario en un DataFrame de pandas\n",
        "tabla_resultados21 = pd.DataFrame(resultados)\n",
        "\n",
        "# Establecer un índice descriptivo para la tabla\n",
        "tabla_resultados21.index = ['Modelo 2021']\n",
        "\n",
        "# Imprimir la tabla de resultados\n",
        "print(tabla_resultados21)"
      ],
      "metadata": {
        "colab": {
          "base_uri": "https://localhost:8080/"
        },
        "id": "Nut58ggueQ7h",
        "outputId": "f1b42277-fbec-4a1c-ef06-083ca1b751c7"
      },
      "execution_count": null,
      "outputs": [
        {
          "output_type": "stream",
          "name": "stdout",
          "text": [
            "             Exactitud  Sensibilidad  Precisión\n",
            "Modelo 2021   0.506037      0.786364   0.492877\n"
          ]
        }
      ]
    },
    {
      "cell_type": "markdown",
      "source": [
        "## **2022**"
      ],
      "metadata": {
        "id": "mEFA36HlaXbX"
      }
    },
    {
      "cell_type": "code",
      "source": [
        "from sklearn.metrics import confusion_matrix\n",
        "from imblearn.over_sampling import SMOTE"
      ],
      "metadata": {
        "id": "0rk24rcA9wTz"
      },
      "execution_count": null,
      "outputs": []
    },
    {
      "cell_type": "code",
      "source": [
        "#Carga desde un archivo .xlsx sin indice\n",
        "df22= pd.read_excel('Gastos_costos_2022.xlsx')"
      ],
      "metadata": {
        "id": "-hErbE2va2Xb"
      },
      "execution_count": null,
      "outputs": []
    },
    {
      "cell_type": "code",
      "source": [
        "#Rellenamos nulos\n",
        "df22 =df22.fillna(method=\"bfill\")\n",
        "df22 =df22.fillna(method=\"ffill\")"
      ],
      "metadata": {
        "id": "zbasZwKpa8Tq"
      },
      "execution_count": null,
      "outputs": []
    },
    {
      "cell_type": "code",
      "source": [
        "#Verificar los valores sin repetirse de una columna\n",
        "unico22 = np.unique(df22['TIPO GASTO'])\n",
        "unico22"
      ],
      "metadata": {
        "colab": {
          "base_uri": "https://localhost:8080/"
        },
        "id": "BC7VQ37tfEyQ",
        "outputId": "9818b3ac-d650-4796-9b0a-ef2e73c84696"
      },
      "execution_count": null,
      "outputs": [
        {
          "output_type": "execute_result",
          "data": {
            "text/plain": [
              "array(['ALIMENTOS', 'ANTICIPO ', 'ANTICIPO COMPRA AUTO',\n",
              "       'ARRENDAMIENTO FINANCIERO', 'ARRENDAMIENTO LOCAL', 'CALIBRACIONES',\n",
              "       'CAPACITACION', 'CASETAS', 'COMISION BANCARIA', 'COMISION MIXTA',\n",
              "       'COMPRA AUTO ', 'COMPRAS', 'COMPRAS ', 'CREDITO ', 'DERECHOS',\n",
              "       'ENERGIA ELECTRICA', 'FLETE', 'GASOLINA', 'GASTOS IMPORTACION ',\n",
              "       'GERENCIA ADMON', 'HONORARIOS CONTABLES', 'HONORARIOS JURIDICOS',\n",
              "       'HONORARIOS PM', 'HOSPEDAJE', 'IMSS/INFONAVIT',\n",
              "       'INSTALACION ELECTRICA', 'MAQUILAS', 'MAQUINARIA', 'MEDICOS',\n",
              "       'MENSAJERIA', 'MONITOREO CAMARAS ADT', 'MTTO COMPUTO',\n",
              "       'MTTO EQUIPO COMPUTO', 'MTTO LOCAL', 'MTTO MAQUINARIA',\n",
              "       'MTTO OFICINA ', 'MTTO TRANSPORTE', 'NO DEDUCIBLE', 'PAPELERIA',\n",
              "       'PAQUETERIA', 'PEAJES', 'PUBLICIDAD', 'RENTA AUTO',\n",
              "       'RENTA COPIADORA', 'SANITIZACION', 'SEGUROS', 'SUBCONTRATOS',\n",
              "       'SUELDOS DIRECCION', 'SUSCRIPCIONES', 'TELEFONO', 'TRANSPORTE',\n",
              "       'UNIFORMES', 'VALES DESPENSA', 'VARIOS'], dtype=object)"
            ]
          },
          "metadata": {},
          "execution_count": 338
        }
      ]
    },
    {
      "cell_type": "code",
      "source": [
        "df22['TIPO GASTO'] = df22['TIPO GASTO'].apply(lambda x: 1 if x == 'COMPRAS' else 0)"
      ],
      "metadata": {
        "id": "D6Zf5vIG2HWB"
      },
      "execution_count": null,
      "outputs": []
    },
    {
      "cell_type": "code",
      "source": [
        "#Redefinimos las variables \n",
        "X2022= Vars_Indep\n",
        "y2022= Var_Dep"
      ],
      "metadata": {
        "id": "LmI6AEI4h0Se"
      },
      "execution_count": null,
      "outputs": []
    },
    {
      "cell_type": "code",
      "source": [
        "# Definir las variables independientes y dependientes\n",
        "X2022 = df22[\"TOTAL MX\"].values.reshape(-1, 1)\n",
        "y2022 = df22['TIPO GASTO']\n",
        "\n",
        "# Aplicar SMOTE para equilibrar las clases\n",
        "smote = SMOTE()\n",
        "X2022_resampled, y2022_resampled = smote.fit_resample(X2022, y2022)\n",
        "\n",
        "# Dividir los datos en conjuntos de entrenamiento y prueba\n",
        "X2022_train, X2022_test, y2022_train, y2022_test = train_test_split(X2022_resampled, y2022_resampled, test_size=0.3)\n",
        "\n",
        "# Escalar los datos\n",
        "escalar2022 = StandardScaler()\n",
        "X2022_train = escalar2022.fit_transform(X2022_train)\n",
        "X2022_test = escalar2022.transform(X2022_test)\n",
        "\n",
        "# Definir e instanciar el algoritmo\n",
        "algoritmo = LogisticRegression(C=0.1, solver='liblinear')"
      ],
      "metadata": {
        "id": "j_OZ2sNAh2Qf"
      },
      "execution_count": null,
      "outputs": []
    },
    {
      "cell_type": "code",
      "source": [
        "#Definimos el algoritmo a utilizar\n",
        "from sklearn.linear_model import LogisticRegression\n",
        "algoritmo = LogisticRegression()"
      ],
      "metadata": {
        "id": "C8spwYJeh2EJ"
      },
      "execution_count": null,
      "outputs": []
    },
    {
      "cell_type": "code",
      "source": [
        "#Entrenamos el modelo\n",
        "algoritmo.fit(X2022_train, y2022_train)"
      ],
      "metadata": {
        "colab": {
          "base_uri": "https://localhost:8080/",
          "height": 74
        },
        "id": "NIN0P4XRh6VW",
        "outputId": "e385da1e-3814-4288-94c1-555c9ac5023d"
      },
      "execution_count": null,
      "outputs": [
        {
          "output_type": "execute_result",
          "data": {
            "text/plain": [
              "LogisticRegression()"
            ],
            "text/html": [
              "<style>#sk-container-id-22 {color: black;background-color: white;}#sk-container-id-22 pre{padding: 0;}#sk-container-id-22 div.sk-toggleable {background-color: white;}#sk-container-id-22 label.sk-toggleable__label {cursor: pointer;display: block;width: 100%;margin-bottom: 0;padding: 0.3em;box-sizing: border-box;text-align: center;}#sk-container-id-22 label.sk-toggleable__label-arrow:before {content: \"▸\";float: left;margin-right: 0.25em;color: #696969;}#sk-container-id-22 label.sk-toggleable__label-arrow:hover:before {color: black;}#sk-container-id-22 div.sk-estimator:hover label.sk-toggleable__label-arrow:before {color: black;}#sk-container-id-22 div.sk-toggleable__content {max-height: 0;max-width: 0;overflow: hidden;text-align: left;background-color: #f0f8ff;}#sk-container-id-22 div.sk-toggleable__content pre {margin: 0.2em;color: black;border-radius: 0.25em;background-color: #f0f8ff;}#sk-container-id-22 input.sk-toggleable__control:checked~div.sk-toggleable__content {max-height: 200px;max-width: 100%;overflow: auto;}#sk-container-id-22 input.sk-toggleable__control:checked~label.sk-toggleable__label-arrow:before {content: \"▾\";}#sk-container-id-22 div.sk-estimator input.sk-toggleable__control:checked~label.sk-toggleable__label {background-color: #d4ebff;}#sk-container-id-22 div.sk-label input.sk-toggleable__control:checked~label.sk-toggleable__label {background-color: #d4ebff;}#sk-container-id-22 input.sk-hidden--visually {border: 0;clip: rect(1px 1px 1px 1px);clip: rect(1px, 1px, 1px, 1px);height: 1px;margin: -1px;overflow: hidden;padding: 0;position: absolute;width: 1px;}#sk-container-id-22 div.sk-estimator {font-family: monospace;background-color: #f0f8ff;border: 1px dotted black;border-radius: 0.25em;box-sizing: border-box;margin-bottom: 0.5em;}#sk-container-id-22 div.sk-estimator:hover {background-color: #d4ebff;}#sk-container-id-22 div.sk-parallel-item::after {content: \"\";width: 100%;border-bottom: 1px solid gray;flex-grow: 1;}#sk-container-id-22 div.sk-label:hover label.sk-toggleable__label {background-color: #d4ebff;}#sk-container-id-22 div.sk-serial::before {content: \"\";position: absolute;border-left: 1px solid gray;box-sizing: border-box;top: 0;bottom: 0;left: 50%;z-index: 0;}#sk-container-id-22 div.sk-serial {display: flex;flex-direction: column;align-items: center;background-color: white;padding-right: 0.2em;padding-left: 0.2em;position: relative;}#sk-container-id-22 div.sk-item {position: relative;z-index: 1;}#sk-container-id-22 div.sk-parallel {display: flex;align-items: stretch;justify-content: center;background-color: white;position: relative;}#sk-container-id-22 div.sk-item::before, #sk-container-id-22 div.sk-parallel-item::before {content: \"\";position: absolute;border-left: 1px solid gray;box-sizing: border-box;top: 0;bottom: 0;left: 50%;z-index: -1;}#sk-container-id-22 div.sk-parallel-item {display: flex;flex-direction: column;z-index: 1;position: relative;background-color: white;}#sk-container-id-22 div.sk-parallel-item:first-child::after {align-self: flex-end;width: 50%;}#sk-container-id-22 div.sk-parallel-item:last-child::after {align-self: flex-start;width: 50%;}#sk-container-id-22 div.sk-parallel-item:only-child::after {width: 0;}#sk-container-id-22 div.sk-dashed-wrapped {border: 1px dashed gray;margin: 0 0.4em 0.5em 0.4em;box-sizing: border-box;padding-bottom: 0.4em;background-color: white;}#sk-container-id-22 div.sk-label label {font-family: monospace;font-weight: bold;display: inline-block;line-height: 1.2em;}#sk-container-id-22 div.sk-label-container {text-align: center;}#sk-container-id-22 div.sk-container {/* jupyter's `normalize.less` sets `[hidden] { display: none; }` but bootstrap.min.css set `[hidden] { display: none !important; }` so we also need the `!important` here to be able to override the default hidden behavior on the sphinx rendered scikit-learn.org. See: https://github.com/scikit-learn/scikit-learn/issues/21755 */display: inline-block !important;position: relative;}#sk-container-id-22 div.sk-text-repr-fallback {display: none;}</style><div id=\"sk-container-id-22\" class=\"sk-top-container\"><div class=\"sk-text-repr-fallback\"><pre>LogisticRegression()</pre><b>In a Jupyter environment, please rerun this cell to show the HTML representation or trust the notebook. <br />On GitHub, the HTML representation is unable to render, please try loading this page with nbviewer.org.</b></div><div class=\"sk-container\" hidden><div class=\"sk-item\"><div class=\"sk-estimator sk-toggleable\"><input class=\"sk-toggleable__control sk-hidden--visually\" id=\"sk-estimator-id-22\" type=\"checkbox\" checked><label for=\"sk-estimator-id-22\" class=\"sk-toggleable__label sk-toggleable__label-arrow\">LogisticRegression</label><div class=\"sk-toggleable__content\"><pre>LogisticRegression()</pre></div></div></div></div></div>"
            ]
          },
          "metadata": {},
          "execution_count": 343
        }
      ]
    },
    {
      "cell_type": "code",
      "source": [
        "#Realizamos una predicción\n",
        "y2022_pred = algoritmo.predict(X2022_test) "
      ],
      "metadata": {
        "id": "GQJBT_UOh6KH"
      },
      "execution_count": null,
      "outputs": []
    },
    {
      "cell_type": "code",
      "source": [
        "#Verifico la matriz de Confusión\n",
        "from sklearn.metrics import confusion_matrix\n",
        "matriz2022 = confusion_matrix(y2022_test, y2022_pred)\n",
        "print('Matriz de Confusión:')\n",
        "print(matriz2022)"
      ],
      "metadata": {
        "colab": {
          "base_uri": "https://localhost:8080/"
        },
        "id": "ei_9xqgyh6Cr",
        "outputId": "73d1a19a-cf6e-4bb6-9c95-ae7b999221ce"
      },
      "execution_count": null,
      "outputs": [
        {
          "output_type": "stream",
          "name": "stdout",
          "text": [
            "Matriz de Confusión:\n",
            "[[105 310]\n",
            " [141 287]]\n"
          ]
        }
      ]
    },
    {
      "cell_type": "code",
      "source": [
        "print(\"Etiquetas únicas en y2022_test:\", np.unique(y2022_test))\n",
        "print(\"Etiquetas únicas en y2022_pred:\", np.unique(y2022_pred))"
      ],
      "metadata": {
        "colab": {
          "base_uri": "https://localhost:8080/"
        },
        "id": "QtCPDsbv5tgq",
        "outputId": "e03272c9-3dab-4282-c9e3-b6c32cdf312c"
      },
      "execution_count": null,
      "outputs": [
        {
          "output_type": "stream",
          "name": "stdout",
          "text": [
            "Etiquetas únicas en y2022_test: [0 1]\n",
            "Etiquetas únicas en y2022_pred: [0 1]\n"
          ]
        }
      ]
    },
    {
      "cell_type": "code",
      "source": [
        "#Calculo la precisión del modelo\n",
        "from sklearn.metrics import precision_score\n",
        "\n",
        "precision2022 = precision_score(y2022_test, y2022_pred, average=\"binary\", pos_label=1)\n",
        "print('Precisión del modelo:')\n",
        "print(precision2022)"
      ],
      "metadata": {
        "colab": {
          "base_uri": "https://localhost:8080/"
        },
        "id": "Wak0TCBEh5y6",
        "outputId": "9f3f4695-9564-458f-a1a9-a18ab99c47b5"
      },
      "execution_count": null,
      "outputs": [
        {
          "output_type": "stream",
          "name": "stdout",
          "text": [
            "Precisión del modelo:\n",
            "0.4807370184254606\n"
          ]
        }
      ]
    },
    {
      "cell_type": "code",
      "source": [
        "#Calculo la exactitud del modelo\n",
        "from sklearn.metrics import accuracy_score\n",
        "\n",
        "exactitud2022 = accuracy_score(y2022_test, y2022_pred)\n",
        "print('Exactitud del modelo:')\n",
        "print(exactitud2022)"
      ],
      "metadata": {
        "colab": {
          "base_uri": "https://localhost:8080/"
        },
        "id": "Dt1fQOrIiAGf",
        "outputId": "c04b7d04-8be6-4747-da18-d3dc94c943af"
      },
      "execution_count": null,
      "outputs": [
        {
          "output_type": "stream",
          "name": "stdout",
          "text": [
            "Exactitud del modelo:\n",
            "0.465005931198102\n"
          ]
        }
      ]
    },
    {
      "cell_type": "code",
      "source": [
        "#Calculo la sensibilidad del modelo\n",
        "from sklearn.metrics import recall_score\n",
        "\n",
        "sensibilidad2022 = recall_score(y2022_test, y2022_pred, average=\"binary\", pos_label=1)\n",
        "print('Sensibilidad del modelo:')\n",
        "print(sensibilidad2022)"
      ],
      "metadata": {
        "colab": {
          "base_uri": "https://localhost:8080/"
        },
        "id": "PelRN8Grh__C",
        "outputId": "2acb9786-6e6d-47fd-f655-e8cd10a0052d"
      },
      "execution_count": null,
      "outputs": [
        {
          "output_type": "stream",
          "name": "stdout",
          "text": [
            "Sensibilidad del modelo:\n",
            "0.6705607476635514\n"
          ]
        }
      ]
    },
    {
      "cell_type": "code",
      "source": [
        "# el puntaje F1 que es una combinación entre la precisión y la sensibilidad, para esto importamos f1_score.\n",
        "#Calculo el Puntaje F1 del modelo\n",
        "from sklearn.metrics import f1_score\n",
        "\n",
        "puntajef12022 = f1_score(y2022_test, y2022_pred, average=\"binary\", pos_label=1)\n",
        "print('Puntaje F1 del modelo:')\n",
        "print(puntajef12022)"
      ],
      "metadata": {
        "colab": {
          "base_uri": "https://localhost:8080/"
        },
        "id": "SOH1FTVMiGT3",
        "outputId": "9afa8c95-b2b0-49f4-b612-5e55f084a27d"
      },
      "execution_count": null,
      "outputs": [
        {
          "output_type": "stream",
          "name": "stdout",
          "text": [
            "Puntaje F1 del modelo:\n",
            "0.5599999999999999\n"
          ]
        }
      ]
    },
    {
      "cell_type": "code",
      "source": [
        "\n",
        "# Crear un diccionario con los resultados\n",
        "resultados = {'Exactitud': [exactitud2022],\n",
        "              'Sensibilidad': [sensibilidad2022],\n",
        "              'Precisión': [precision2022]}\n",
        "\n",
        "# Convertir el diccionario en un DataFrame de pandas\n",
        "tabla_resultados22 = pd.DataFrame(resultados)\n",
        "\n",
        "# Establecer un índice descriptivo para la tabla\n",
        "tabla_resultados22.index = ['Modelo 2022']\n",
        "\n",
        "# Imprimir la tabla de resultados\n",
        "print(tabla_resultados22)\n"
      ],
      "metadata": {
        "colab": {
          "base_uri": "https://localhost:8080/"
        },
        "id": "dcTyalRq_0c2",
        "outputId": "d4a8dbe5-c2b4-4e0b-dc45-8ac17bcea1b0"
      },
      "execution_count": null,
      "outputs": [
        {
          "output_type": "stream",
          "name": "stdout",
          "text": [
            "             Exactitud  Sensibilidad  Precisión\n",
            "Modelo 2022   0.465006      0.670561   0.480737\n"
          ]
        }
      ]
    },
    {
      "cell_type": "markdown",
      "source": [
        "## **2023**"
      ],
      "metadata": {
        "id": "eTmG0YWXaaJY"
      }
    },
    {
      "cell_type": "code",
      "source": [
        "# Carga de datos\n",
        "df23 = pd.read_excel('Gastos_costos_2023.xlsx')\n",
        "df23 = df23.fillna(method=\"bfill\")\n",
        "df23 = df23.fillna(method=\"ffill\")\n",
        "\n",
        "# Preprocesamiento de datos\n",
        "df23['TIPO GASTO'] = df23['TIPO GASTO'].apply(lambda x: 1 if x == 'COMPRAS' else 0)\n",
        "X2023 = df23[\"TOTAL MX\"].values.reshape(-1, 1)\n",
        "y2023 = df23['TIPO GASTO']\n",
        "\n",
        "# Aplicar SMOTE para equilibrar las clases\n",
        "smote = SMOTE()\n",
        "X2023_resampled, y2023_resampled = smote.fit_resample(X2023, y2023)\n",
        "\n",
        "# Dividir los datos en conjuntos de entrenamiento y prueba\n",
        "X2023_train, X2023_test, y2023_train, y2023_test = train_test_split(X2023_resampled, y2023_resampled, test_size=0.3)\n",
        "\n",
        "# Escalar los datos\n",
        "escalar2023 = StandardScaler()\n",
        "X2023_train = escalar2023.fit_transform(X2023_train)\n",
        "X2023_test = escalar2023.transform(X2023_test)\n",
        "\n",
        "# Definir e instanciar el algoritmo\n",
        "algoritmo = LogisticRegression(C=1.0, solver='liblinear')\n",
        "\n",
        "# Entrenar el modelo\n",
        "algoritmo.fit(X2023_train, y2023_train)\n",
        "\n",
        "# Realizar predicciones\n",
        "y2023_pred = algoritmo.predict(X2023_test)\n",
        "\n",
        "# Calcular métricas de rendimiento\n",
        "matriz2023 = confusion_matrix(y2023_test, y2023_pred)\n",
        "print('Matriz de Confusión:')\n",
        "print(matriz2023)\n",
        "\n",
        "exactitud2023 = accuracy_score(y2023_test, y2023_pred)\n",
        "print('Exactitud del modelo:', exactitud2023)\n",
        "\n",
        "precision2023 = precision_score(y2023_test, y2023_pred, average=\"binary\", pos_label=1)\n",
        "print('Precisión del modelo:', precision2023)\n",
        "\n",
        "sensibilidad2023 = recall_score(y2023_test, y2023_pred, average=\"binary\", pos_label=1)\n",
        "print('Sensibilidad del modelo:', sensibilidad2023)\n"
      ],
      "metadata": {
        "colab": {
          "base_uri": "https://localhost:8080/"
        },
        "id": "rY4uKzZZCOZh",
        "outputId": "5353ce35-825a-43c2-c8a6-559ea551705d"
      },
      "execution_count": null,
      "outputs": [
        {
          "output_type": "stream",
          "name": "stdout",
          "text": [
            "Matriz de Confusión:\n",
            "[[14 48]\n",
            " [24 37]]\n",
            "Exactitud del modelo: 0.4146341463414634\n",
            "Precisión del modelo: 0.43529411764705883\n",
            "Sensibilidad del modelo: 0.6065573770491803\n"
          ]
        }
      ]
    },
    {
      "cell_type": "code",
      "source": [
        "# Crear un diccionario con los resultados\n",
        "resultados = {'Exactitud': [exactitud2023],\n",
        "              'Sensibilidad': [sensibilidad2023],\n",
        "              'Precisión': [precision2023]}\n",
        "\n",
        "# Convertir el diccionario en un DataFrame de pandas\n",
        "tabla_resultados23 = pd.DataFrame(resultados)\n",
        "\n",
        "# Establecer un índice descriptivo para la tabla\n",
        "tabla_resultados23.index = ['Modelo 2023']\n",
        "\n",
        "# Imprimir la tabla de resultados\n",
        "print(tabla_resultados23)"
      ],
      "metadata": {
        "colab": {
          "base_uri": "https://localhost:8080/"
        },
        "id": "wKoXYxGxa-MC",
        "outputId": "a4ecace7-011c-4112-c9f9-c2e319f64310"
      },
      "execution_count": null,
      "outputs": [
        {
          "output_type": "stream",
          "name": "stdout",
          "text": [
            "             Exactitud  Sensibilidad  Precisión\n",
            "Modelo 2023   0.414634      0.606557   0.435294\n"
          ]
        }
      ]
    },
    {
      "cell_type": "code",
      "source": [
        "# Combinar los DataFrames individuales en un solo DataFrame\n",
        "resultados_combinados = pd.concat([tabla_resultados20, tabla_resultados21, tabla_resultados22, tabla_resultados23])\n",
        "\n",
        "# Imprimir el DataFrame combinado\n",
        "print(resultados_combinados)\n"
      ],
      "metadata": {
        "colab": {
          "base_uri": "https://localhost:8080/"
        },
        "id": "Bc9MccsjV0di",
        "outputId": "59faaef6-efa0-4f25-e7c4-540fe1c67622"
      },
      "execution_count": null,
      "outputs": [
        {
          "output_type": "stream",
          "name": "stdout",
          "text": [
            "             Exactitud  Sensibilidad  Precisión\n",
            "Modelo 2020   0.563310      0.000000   0.000000\n",
            "Modelo 2021   0.506037      0.786364   0.492877\n",
            "Modelo 2022   0.465006      0.670561   0.480737\n",
            "Modelo 2023   0.414634      0.606557   0.435294\n"
          ]
        }
      ]
    }
  ]
}